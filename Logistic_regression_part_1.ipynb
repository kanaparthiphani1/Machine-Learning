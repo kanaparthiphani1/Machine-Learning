{
  "nbformat": 4,
  "nbformat_minor": 0,
  "metadata": {
    "colab": {
      "name": "Logistic_regression_part_1.ipynb",
      "provenance": [],
      "collapsed_sections": [],
      "authorship_tag": "ABX9TyN55qJaN0ZBEeGYdVc3MjBL",
      "include_colab_link": true
    },
    "kernelspec": {
      "name": "python3",
      "display_name": "Python 3"
    },
    "language_info": {
      "name": "python"
    }
  },
  "cells": [
    {
      "cell_type": "markdown",
      "metadata": {
        "id": "view-in-github",
        "colab_type": "text"
      },
      "source": [
        "<a href=\"https://colab.research.google.com/github/kanaparthiphani1/Machine-Learning/blob/main/Logistic_regression_part_1.ipynb\" target=\"_parent\"><img src=\"https://colab.research.google.com/assets/colab-badge.svg\" alt=\"Open In Colab\"/></a>"
      ]
    },
    {
      "cell_type": "markdown",
      "metadata": {
        "id": "a1uJ-EgZ1ldK"
      },
      "source": [
        "# **Importing**"
      ]
    },
    {
      "cell_type": "code",
      "metadata": {
        "id": "K0upcOca1TfZ"
      },
      "source": [
        "import numpy as np\n"
      ],
      "execution_count": 1,
      "outputs": []
    },
    {
      "cell_type": "markdown",
      "metadata": {
        "id": "d9rf5b-G1kUm"
      },
      "source": [
        "# **Logistic Regression Algorithm**"
      ]
    },
    {
      "cell_type": "markdown",
      "metadata": {
        "id": "k2yJHSoR2BpO"
      },
      "source": [
        "**Sigmoid Function**\n",
        "<br><br>$\\hspace{20mm}{\\sigma(z)} = \\frac{1}{1+e^{-z}}$"
      ]
    },
    {
      "cell_type": "code",
      "metadata": {
        "id": "cOT3LHTP10Ns"
      },
      "source": [
        "def sigmoid_function(z):\n",
        "  sigmoid_value = 1/(1+ np.exp(-z))\n",
        "  return sigmoid_value"
      ],
      "execution_count": null,
      "outputs": []
    },
    {
      "cell_type": "markdown",
      "metadata": {
        "id": "eheLl1ND2xoj"
      },
      "source": [
        "**Hypothesis Function**\n",
        "<br><br>$\\hspace{20mm}H = \\sigma(Xw+b)\\\\[0.1pt]$\n",
        "<br>$\\hspace{2cm}$(where $\\sigma$ represents the sigmoid function)"
      ]
    },
    {
      "cell_type": "code",
      "metadata": {
        "id": "esCHgQuj27mS"
      },
      "source": [
        "def hypo_func(X,w,b):\n",
        "  z = np.dot(X,w)+b\n",
        "  H = sigmoid_function(z)\n",
        "  return H"
      ],
      "execution_count": null,
      "outputs": []
    },
    {
      "cell_type": "markdown",
      "metadata": {
        "id": "sQ7YwyPk3ntT"
      },
      "source": [
        "**Cost Function**\n",
        "<br><br>$\\hspace{20mm}J_{w,b}(X)=\\frac{-1}{m}(Y^Tlog(H)+(1-Y)^Tlog(1-H))\\\\[0.1pt]$\n"
      ]
    },
    {
      "cell_type": "code",
      "metadata": {
        "id": "6xUbfjc-4KJc"
      },
      "source": [
        "def cost_function(X,w,b,Y):\n",
        "  H = hypo_func(X,w,b)\n",
        "  m = X.shape[0]\n",
        "  first_ele = np.dot(Y.T,np.log(H))\n",
        "  second_ele = np.dot((1-Y).T,np.log(1-H))\n",
        "  cost = (-1/m)*(first_ele+second_ele)\n",
        "  return cost"
      ],
      "execution_count": null,
      "outputs": []
    },
    {
      "cell_type": "markdown",
      "metadata": {
        "id": "DZHf3kJR4-rb"
      },
      "source": [
        "**Gradient of Cost Function**\n",
        " <br><br>$\\hspace{20mm}\\frac{dJ}{dw} = \\frac{1}{m}X^T(H-Y)$\n",
        " <br><br>$\\hspace{20mm}\\frac{dJ}{db} = \\frac{1}{m}\\sum (H-Y) \\\\[0.1pt]  \\\\[0.1pt]$\n",
        "\n"
      ]
    },
    {
      "cell_type": "code",
      "metadata": {
        "id": "rbO_QCHt50RR"
      },
      "source": [
        "def cost_gradient(X,Y,w,b):\n",
        "  H = hypo_func(X,w,b)\n",
        "  m = X.shape[0]\n",
        "  dw = (1/m)*(np.dot(X.T,(H-Y)))\n",
        "  db = (1/m)*(np.sum(H-Y))\n",
        "  return dw,db"
      ],
      "execution_count": null,
      "outputs": []
    },
    {
      "cell_type": "markdown",
      "metadata": {
        "id": "TcG4RgRh9C6s"
      },
      "source": [
        "**Gradient Descent**<br><br>\n",
        "$\\hspace{20mm}w = w - \\alpha \\frac{dJ}{dw}$<br><br>\n",
        "\n",
        "$\\hspace{20mm}b = b - \\alpha \\frac{dJ}{db}$<br><br>"
      ]
    },
    {
      "cell_type": "code",
      "metadata": {
        "id": "Dh59nmNi9RjH"
      },
      "source": [
        "def gradient_descent(X,Y,w,b,learning_rate,cost_diff_tres):\n",
        "  costs = [cost_function(X,w,b,Y)]\n",
        "  ws = [w]\n",
        "  bs = [b]\n",
        "  cost_diff = cost_diff_tres+1\n",
        "  i=0\n",
        "\n",
        "  while(abs(cost_diff)>cost_diff_tres):\n",
        "    dw,db = cost_gradient(X,Y,w,b)\n",
        "    w = w - np.dot(learning_rate,dw)\n",
        "    b = b - np.dot(learning_rate,db)\n",
        "    ws = np.append(ws,w)\n",
        "    bs = np.append(bs,b)\n",
        "    cost = cost_function(X,w,b,Y)\n",
        "    costs = np.append(costs,cost)\n",
        "    cost_diff =  costs[i+1] -costs[i]\n",
        "    if  cost_diff> 0:\n",
        "      print('diverging')\n",
        "      break\n",
        "    i = i+1\n",
        "  return ws,bs,costs"
      ],
      "execution_count": null,
      "outputs": []
    },
    {
      "cell_type": "markdown",
      "metadata": {
        "id": "GsKmi9-o_f0s"
      },
      "source": [
        "**Predict Labels**"
      ]
    },
    {
      "cell_type": "code",
      "metadata": {
        "id": "8ANcGeVz_j9F"
      },
      "source": [
        "def predict_labels(X,w,b):\n",
        "  H = hypo_func(X,w,b)\n",
        "  labels = np.where(H>=0.5,1,0)\n",
        "  return labels"
      ],
      "execution_count": null,
      "outputs": []
    }
  ]
}