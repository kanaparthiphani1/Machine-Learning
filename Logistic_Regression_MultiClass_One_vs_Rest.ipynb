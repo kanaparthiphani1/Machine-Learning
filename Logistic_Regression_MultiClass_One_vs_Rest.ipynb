{
  "nbformat": 4,
  "nbformat_minor": 0,
  "metadata": {
    "colab": {
      "name": "Logistic Regression MultiClass One vs Rest.ipynb",
      "provenance": [],
      "collapsed_sections": [],
      "authorship_tag": "ABX9TyMxfAZv3n47P6xiu4t4Wf7g",
      "include_colab_link": true
    },
    "kernelspec": {
      "name": "python3",
      "display_name": "Python 3"
    },
    "language_info": {
      "name": "python"
    }
  },
  "cells": [
    {
      "cell_type": "markdown",
      "metadata": {
        "id": "view-in-github",
        "colab_type": "text"
      },
      "source": [
        "<a href=\"https://colab.research.google.com/github/kanaparthiphani1/Machine-Learning/blob/main/Logistic_Regression_MultiClass_One_vs_Rest.ipynb\" target=\"_parent\"><img src=\"https://colab.research.google.com/assets/colab-badge.svg\" alt=\"Open In Colab\"/></a>"
      ]
    },
    {
      "cell_type": "markdown",
      "metadata": {
        "id": "HV5xOQz3tLUu"
      },
      "source": [
        "**Imports**"
      ]
    },
    {
      "cell_type": "code",
      "metadata": {
        "id": "tRQA7CvmsMiq"
      },
      "source": [
        "import numpy as np\n",
        "import pandas as pd\n",
        "from sklearn.datasets import load_iris"
      ],
      "execution_count": 4,
      "outputs": []
    },
    {
      "cell_type": "markdown",
      "metadata": {
        "id": "VZjbl8XBtYwv"
      },
      "source": [
        "# $L_2$ Regularized Logistic Regression"
      ]
    },
    {
      "cell_type": "markdown",
      "metadata": {
        "id": "nKy1hjGXtfEW"
      },
      "source": [
        "## Sigmoid Function\n",
        "$\\hspace{20mm}{\\sigma(z)} = \\frac{1}{1+e^{-z}}$"
      ]
    },
    {
      "cell_type": "code",
      "metadata": {
        "id": "8zSHFvE6teM6"
      },
      "source": [
        "def sigmoid_func(z):\n",
        "  return 1/(1+np.exp(-z))"
      ],
      "execution_count": 5,
      "outputs": []
    },
    {
      "cell_type": "markdown",
      "metadata": {
        "id": "luPz9mQTttY5"
      },
      "source": [
        "## Hypothesis Function in Logistic Regression\n",
        "$\\hspace{20mm}H = \\sigma(Xw+b)\\\\[0.1pt]$\n"
      ]
    },
    {
      "cell_type": "code",
      "metadata": {
        "id": "ovQvHvb6t06B"
      },
      "source": [
        "def compute_hypothesis(X,w,b):\n",
        "  z = np.dot(X,w)+b\n",
        "  return sigmoid_func(z)"
      ],
      "execution_count": 6,
      "outputs": []
    },
    {
      "cell_type": "markdown",
      "metadata": {
        "id": "Iz5IeNY9uM2n"
      },
      "source": [
        "## $L_2$ Regularized Cost Function\n",
        "$\\hspace{20mm}J_{w,b}(X)=\\frac{-1}{m}\\left [Y^Tlog(H)+(1-Y)^Tlog(1-H) \\right ]+ \\frac{\\lambda}{2m}w^Tw\\\\[0.1pt]$"
      ]
    },
    {
      "cell_type": "code",
      "metadata": {
        "id": "2iaoB7uzuUz-"
      },
      "source": [
        "def L2_cost_func(X,Y,w,b,Lambda):\n",
        "  H = compute_hypothesis(X,w,b)\n",
        "  first_term = np.dot(Y.T,np.log(H))\n",
        "  second_term = np.dot((1-Y).T,np.log(1-H))\n",
        "  m = X.shape[0]\n",
        "  combined = (-1/m)*(first_term + second_term)\n",
        "  regularization_term = (Lambda/(2*m))*(np.dot(w.T,w))\n",
        "  return (combined+regularization_term).squeeze()"
      ],
      "execution_count": 27,
      "outputs": []
    },
    {
      "cell_type": "markdown",
      "metadata": {
        "id": "-y9sFBoDvtCT"
      },
      "source": [
        "## Gradients of $L_2$ Regularized Cost Function\n",
        "$\\hspace{20mm}\\frac{dJ}{dw} = \\frac{1}{m}\\left [ X^T(H-Y) + \\lambda w\\right ]$<br><br>$\\hspace{20mm}\\frac{dJ}{db} = \\frac{1}{m}\\sum (H-Y) \\\\[0.1pt]  \\\\[0.1pt]$"
      ]
    },
    {
      "cell_type": "code",
      "metadata": {
        "id": "b-8ezifgwEDY"
      },
      "source": [
        "def grad_L2_cost(X,Y,w,b,Lambda):\n",
        "  H = compute_hypothesis(X,w,b)\n",
        "  m = X.shape[0]\n",
        "  dw = (1/m)*(np.dot(X.T,(H-Y)) + Lambda*w)\n",
        "  db = (1/m)*np.sum(H-Y)\n",
        "  return dw,db"
      ],
      "execution_count": 8,
      "outputs": []
    },
    {
      "cell_type": "markdown",
      "metadata": {
        "id": "ve3PrZFswzF5"
      },
      "source": [
        "## Gradient Descent in $L_2$ Regularized Logistic Regression\n",
        "$\\hspace{10mm}w = w - \\alpha \\frac{dJ}{dw}$<br><br>\n",
        "$\\hspace{10mm}b = b - \\alpha \\frac{dJ}{db}$<br><br>"
      ]
    },
    {
      "cell_type": "code",
      "metadata": {
        "id": "P-wEcTYmw-kG"
      },
      "source": [
        "def gradient_descent(X,Y,w,b,Lambda,learning_rate,cost_diff_thres):\n",
        "  cost_diff = cost_diff_thres +1\n",
        "  prev_cost = L2_cost_func(X,Y,w,b,Lambda)\n",
        "  i = 0\n",
        "\n",
        "  while abs(cost_diff) > cost_diff_thres:\n",
        "    dw,db = grad_L2_cost(X,Y,w,b,Lambda)\n",
        "    w = w - learning_rate*dw\n",
        "    b = b - learning_rate*db\n",
        "    cost = L2_cost_func(X,Y,w,b,Lambda)\n",
        "    cost_diff = cost - prev_cost\n",
        "    if cost_diff > 0:\n",
        "      print(\"Diverging\")\n",
        "      break\n",
        "    i = i+1\n",
        "    prev_cost = cost\n",
        "  return w,b"
      ],
      "execution_count": 31,
      "outputs": []
    },
    {
      "cell_type": "markdown",
      "metadata": {
        "id": "ZjU2aDLsyDuD"
      },
      "source": [
        "## One-vs-Rest for Multi-Class Classification\n"
      ]
    },
    {
      "cell_type": "code",
      "metadata": {
        "id": "srWHHZqRyiSa"
      },
      "source": [
        "def one_vs_rest(X, Y, w, b, cost_diff_threshold, learning_rate, Lambda):\n",
        "  classes = np.unique(Y)\n",
        "  classes.sort()\n",
        "  classes_dict = {}\n",
        "\n",
        "  for i in classes:\n",
        "    Y_class = np.where(Y==i,1,0)\n",
        "    w,b = gradient_descent(X,Y_class,w,b,Lambda,learning_rate,cost_diff_threshold)\n",
        "    classes_dict[i] = [w,b]\n",
        "  return classes_dict\n"
      ],
      "execution_count": 25,
      "outputs": []
    },
    {
      "cell_type": "markdown",
      "metadata": {
        "id": "ii0PxKtmzwUc"
      },
      "source": [
        "## Prediction in One-vs-Rest Approach "
      ]
    },
    {
      "cell_type": "code",
      "metadata": {
        "id": "ptjUJ_0ezypP"
      },
      "source": [
        "def predict_labels_in_one_vs_rest(X, classwise_params_dict):\n",
        "  classes = sorted(classwise_params_dict.keys())\n",
        "  classes= np.array(classes)\n",
        "  m = X.shape[0]\n",
        "  class_wise_hypos = np.zeros((len(classes),m))\n",
        "\n",
        "  for idx,i in enumerate(classes):\n",
        "    params = classwise_params_dict[i]\n",
        "    w = params[0]\n",
        "    b = params[1]\n",
        "    class_wise_hypos[idx] = compute_hypothesis(X,w,b).ravel()\n",
        "\n",
        "  pred_label_indexes = np.argmax(class_wise_hypos,axis = 0).ravel()\n",
        "  pred_labels = classes[pred_label_indexes]\n",
        "  return pred_labels"
      ],
      "execution_count": 36,
      "outputs": []
    },
    {
      "cell_type": "markdown",
      "metadata": {
        "id": "fpskmCn909QO"
      },
      "source": [
        "# Iris Flower Species Prediction"
      ]
    },
    {
      "cell_type": "markdown",
      "metadata": {
        "id": "LYu0md2O1BE6"
      },
      "source": [
        "## Data Collection\n"
      ]
    },
    {
      "cell_type": "code",
      "metadata": {
        "colab": {
          "base_uri": "https://localhost:8080/",
          "height": 422
        },
        "id": "0xC5i5pw1PdT",
        "outputId": "4d44f741-3696-4cd9-fcce-04053d180cda"
      },
      "source": [
        "data = load_iris()\n",
        "df = pd.DataFrame(data.data, columns=data.feature_names)\n",
        "df"
      ],
      "execution_count": 12,
      "outputs": [
        {
          "output_type": "execute_result",
          "data": {
            "text/html": [
              "<div>\n",
              "<style scoped>\n",
              "    .dataframe tbody tr th:only-of-type {\n",
              "        vertical-align: middle;\n",
              "    }\n",
              "\n",
              "    .dataframe tbody tr th {\n",
              "        vertical-align: top;\n",
              "    }\n",
              "\n",
              "    .dataframe thead th {\n",
              "        text-align: right;\n",
              "    }\n",
              "</style>\n",
              "<table border=\"1\" class=\"dataframe\">\n",
              "  <thead>\n",
              "    <tr style=\"text-align: right;\">\n",
              "      <th></th>\n",
              "      <th>sepal length (cm)</th>\n",
              "      <th>sepal width (cm)</th>\n",
              "      <th>petal length (cm)</th>\n",
              "      <th>petal width (cm)</th>\n",
              "    </tr>\n",
              "  </thead>\n",
              "  <tbody>\n",
              "    <tr>\n",
              "      <th>0</th>\n",
              "      <td>5.1</td>\n",
              "      <td>3.5</td>\n",
              "      <td>1.4</td>\n",
              "      <td>0.2</td>\n",
              "    </tr>\n",
              "    <tr>\n",
              "      <th>1</th>\n",
              "      <td>4.9</td>\n",
              "      <td>3.0</td>\n",
              "      <td>1.4</td>\n",
              "      <td>0.2</td>\n",
              "    </tr>\n",
              "    <tr>\n",
              "      <th>2</th>\n",
              "      <td>4.7</td>\n",
              "      <td>3.2</td>\n",
              "      <td>1.3</td>\n",
              "      <td>0.2</td>\n",
              "    </tr>\n",
              "    <tr>\n",
              "      <th>3</th>\n",
              "      <td>4.6</td>\n",
              "      <td>3.1</td>\n",
              "      <td>1.5</td>\n",
              "      <td>0.2</td>\n",
              "    </tr>\n",
              "    <tr>\n",
              "      <th>4</th>\n",
              "      <td>5.0</td>\n",
              "      <td>3.6</td>\n",
              "      <td>1.4</td>\n",
              "      <td>0.2</td>\n",
              "    </tr>\n",
              "    <tr>\n",
              "      <th>...</th>\n",
              "      <td>...</td>\n",
              "      <td>...</td>\n",
              "      <td>...</td>\n",
              "      <td>...</td>\n",
              "    </tr>\n",
              "    <tr>\n",
              "      <th>145</th>\n",
              "      <td>6.7</td>\n",
              "      <td>3.0</td>\n",
              "      <td>5.2</td>\n",
              "      <td>2.3</td>\n",
              "    </tr>\n",
              "    <tr>\n",
              "      <th>146</th>\n",
              "      <td>6.3</td>\n",
              "      <td>2.5</td>\n",
              "      <td>5.0</td>\n",
              "      <td>1.9</td>\n",
              "    </tr>\n",
              "    <tr>\n",
              "      <th>147</th>\n",
              "      <td>6.5</td>\n",
              "      <td>3.0</td>\n",
              "      <td>5.2</td>\n",
              "      <td>2.0</td>\n",
              "    </tr>\n",
              "    <tr>\n",
              "      <th>148</th>\n",
              "      <td>6.2</td>\n",
              "      <td>3.4</td>\n",
              "      <td>5.4</td>\n",
              "      <td>2.3</td>\n",
              "    </tr>\n",
              "    <tr>\n",
              "      <th>149</th>\n",
              "      <td>5.9</td>\n",
              "      <td>3.0</td>\n",
              "      <td>5.1</td>\n",
              "      <td>1.8</td>\n",
              "    </tr>\n",
              "  </tbody>\n",
              "</table>\n",
              "<p>150 rows × 4 columns</p>\n",
              "</div>"
            ],
            "text/plain": [
              "     sepal length (cm)  sepal width (cm)  petal length (cm)  petal width (cm)\n",
              "0                  5.1               3.5                1.4               0.2\n",
              "1                  4.9               3.0                1.4               0.2\n",
              "2                  4.7               3.2                1.3               0.2\n",
              "3                  4.6               3.1                1.5               0.2\n",
              "4                  5.0               3.6                1.4               0.2\n",
              "..                 ...               ...                ...               ...\n",
              "145                6.7               3.0                5.2               2.3\n",
              "146                6.3               2.5                5.0               1.9\n",
              "147                6.5               3.0                5.2               2.0\n",
              "148                6.2               3.4                5.4               2.3\n",
              "149                5.9               3.0                5.1               1.8\n",
              "\n",
              "[150 rows x 4 columns]"
            ]
          },
          "metadata": {
            "tags": []
          },
          "execution_count": 12
        }
      ]
    },
    {
      "cell_type": "code",
      "metadata": {
        "colab": {
          "base_uri": "https://localhost:8080/",
          "height": 439
        },
        "id": "D-g9p97p1f9q",
        "outputId": "732145ef-1918-4813-9dbc-9136f292b366"
      },
      "source": [
        "print(data.target_names)\n",
        "df['species'] = data.target_names[data.target]\n",
        "df"
      ],
      "execution_count": 13,
      "outputs": [
        {
          "output_type": "stream",
          "text": [
            "['setosa' 'versicolor' 'virginica']\n"
          ],
          "name": "stdout"
        },
        {
          "output_type": "execute_result",
          "data": {
            "text/html": [
              "<div>\n",
              "<style scoped>\n",
              "    .dataframe tbody tr th:only-of-type {\n",
              "        vertical-align: middle;\n",
              "    }\n",
              "\n",
              "    .dataframe tbody tr th {\n",
              "        vertical-align: top;\n",
              "    }\n",
              "\n",
              "    .dataframe thead th {\n",
              "        text-align: right;\n",
              "    }\n",
              "</style>\n",
              "<table border=\"1\" class=\"dataframe\">\n",
              "  <thead>\n",
              "    <tr style=\"text-align: right;\">\n",
              "      <th></th>\n",
              "      <th>sepal length (cm)</th>\n",
              "      <th>sepal width (cm)</th>\n",
              "      <th>petal length (cm)</th>\n",
              "      <th>petal width (cm)</th>\n",
              "      <th>species</th>\n",
              "    </tr>\n",
              "  </thead>\n",
              "  <tbody>\n",
              "    <tr>\n",
              "      <th>0</th>\n",
              "      <td>5.1</td>\n",
              "      <td>3.5</td>\n",
              "      <td>1.4</td>\n",
              "      <td>0.2</td>\n",
              "      <td>setosa</td>\n",
              "    </tr>\n",
              "    <tr>\n",
              "      <th>1</th>\n",
              "      <td>4.9</td>\n",
              "      <td>3.0</td>\n",
              "      <td>1.4</td>\n",
              "      <td>0.2</td>\n",
              "      <td>setosa</td>\n",
              "    </tr>\n",
              "    <tr>\n",
              "      <th>2</th>\n",
              "      <td>4.7</td>\n",
              "      <td>3.2</td>\n",
              "      <td>1.3</td>\n",
              "      <td>0.2</td>\n",
              "      <td>setosa</td>\n",
              "    </tr>\n",
              "    <tr>\n",
              "      <th>3</th>\n",
              "      <td>4.6</td>\n",
              "      <td>3.1</td>\n",
              "      <td>1.5</td>\n",
              "      <td>0.2</td>\n",
              "      <td>setosa</td>\n",
              "    </tr>\n",
              "    <tr>\n",
              "      <th>4</th>\n",
              "      <td>5.0</td>\n",
              "      <td>3.6</td>\n",
              "      <td>1.4</td>\n",
              "      <td>0.2</td>\n",
              "      <td>setosa</td>\n",
              "    </tr>\n",
              "    <tr>\n",
              "      <th>...</th>\n",
              "      <td>...</td>\n",
              "      <td>...</td>\n",
              "      <td>...</td>\n",
              "      <td>...</td>\n",
              "      <td>...</td>\n",
              "    </tr>\n",
              "    <tr>\n",
              "      <th>145</th>\n",
              "      <td>6.7</td>\n",
              "      <td>3.0</td>\n",
              "      <td>5.2</td>\n",
              "      <td>2.3</td>\n",
              "      <td>virginica</td>\n",
              "    </tr>\n",
              "    <tr>\n",
              "      <th>146</th>\n",
              "      <td>6.3</td>\n",
              "      <td>2.5</td>\n",
              "      <td>5.0</td>\n",
              "      <td>1.9</td>\n",
              "      <td>virginica</td>\n",
              "    </tr>\n",
              "    <tr>\n",
              "      <th>147</th>\n",
              "      <td>6.5</td>\n",
              "      <td>3.0</td>\n",
              "      <td>5.2</td>\n",
              "      <td>2.0</td>\n",
              "      <td>virginica</td>\n",
              "    </tr>\n",
              "    <tr>\n",
              "      <th>148</th>\n",
              "      <td>6.2</td>\n",
              "      <td>3.4</td>\n",
              "      <td>5.4</td>\n",
              "      <td>2.3</td>\n",
              "      <td>virginica</td>\n",
              "    </tr>\n",
              "    <tr>\n",
              "      <th>149</th>\n",
              "      <td>5.9</td>\n",
              "      <td>3.0</td>\n",
              "      <td>5.1</td>\n",
              "      <td>1.8</td>\n",
              "      <td>virginica</td>\n",
              "    </tr>\n",
              "  </tbody>\n",
              "</table>\n",
              "<p>150 rows × 5 columns</p>\n",
              "</div>"
            ],
            "text/plain": [
              "     sepal length (cm)  sepal width (cm)  ...  petal width (cm)    species\n",
              "0                  5.1               3.5  ...               0.2     setosa\n",
              "1                  4.9               3.0  ...               0.2     setosa\n",
              "2                  4.7               3.2  ...               0.2     setosa\n",
              "3                  4.6               3.1  ...               0.2     setosa\n",
              "4                  5.0               3.6  ...               0.2     setosa\n",
              "..                 ...               ...  ...               ...        ...\n",
              "145                6.7               3.0  ...               2.3  virginica\n",
              "146                6.3               2.5  ...               1.9  virginica\n",
              "147                6.5               3.0  ...               2.0  virginica\n",
              "148                6.2               3.4  ...               2.3  virginica\n",
              "149                5.9               3.0  ...               1.8  virginica\n",
              "\n",
              "[150 rows x 5 columns]"
            ]
          },
          "metadata": {
            "tags": []
          },
          "execution_count": 13
        }
      ]
    },
    {
      "cell_type": "code",
      "metadata": {
        "colab": {
          "base_uri": "https://localhost:8080/"
        },
        "id": "NNpSlC4P1pwx",
        "outputId": "67f76671-7007-4228-c5da-1af0309f642d"
      },
      "source": [
        "df.isna().sum()"
      ],
      "execution_count": 14,
      "outputs": [
        {
          "output_type": "execute_result",
          "data": {
            "text/plain": [
              "sepal length (cm)    0\n",
              "sepal width (cm)     0\n",
              "petal length (cm)    0\n",
              "petal width (cm)     0\n",
              "species              0\n",
              "dtype: int64"
            ]
          },
          "metadata": {
            "tags": []
          },
          "execution_count": 14
        }
      ]
    },
    {
      "cell_type": "code",
      "metadata": {
        "colab": {
          "base_uri": "https://localhost:8080/",
          "height": 112
        },
        "id": "XCpNVGXG1tP-",
        "outputId": "4b19e98e-3af9-4bd5-8b49-ab0b3cffcb44"
      },
      "source": [
        "df[df.duplicated(keep=False)]"
      ],
      "execution_count": 15,
      "outputs": [
        {
          "output_type": "execute_result",
          "data": {
            "text/html": [
              "<div>\n",
              "<style scoped>\n",
              "    .dataframe tbody tr th:only-of-type {\n",
              "        vertical-align: middle;\n",
              "    }\n",
              "\n",
              "    .dataframe tbody tr th {\n",
              "        vertical-align: top;\n",
              "    }\n",
              "\n",
              "    .dataframe thead th {\n",
              "        text-align: right;\n",
              "    }\n",
              "</style>\n",
              "<table border=\"1\" class=\"dataframe\">\n",
              "  <thead>\n",
              "    <tr style=\"text-align: right;\">\n",
              "      <th></th>\n",
              "      <th>sepal length (cm)</th>\n",
              "      <th>sepal width (cm)</th>\n",
              "      <th>petal length (cm)</th>\n",
              "      <th>petal width (cm)</th>\n",
              "      <th>species</th>\n",
              "    </tr>\n",
              "  </thead>\n",
              "  <tbody>\n",
              "    <tr>\n",
              "      <th>101</th>\n",
              "      <td>5.8</td>\n",
              "      <td>2.7</td>\n",
              "      <td>5.1</td>\n",
              "      <td>1.9</td>\n",
              "      <td>virginica</td>\n",
              "    </tr>\n",
              "    <tr>\n",
              "      <th>142</th>\n",
              "      <td>5.8</td>\n",
              "      <td>2.7</td>\n",
              "      <td>5.1</td>\n",
              "      <td>1.9</td>\n",
              "      <td>virginica</td>\n",
              "    </tr>\n",
              "  </tbody>\n",
              "</table>\n",
              "</div>"
            ],
            "text/plain": [
              "     sepal length (cm)  sepal width (cm)  ...  petal width (cm)    species\n",
              "101                5.8               2.7  ...               1.9  virginica\n",
              "142                5.8               2.7  ...               1.9  virginica\n",
              "\n",
              "[2 rows x 5 columns]"
            ]
          },
          "metadata": {
            "tags": []
          },
          "execution_count": 15
        }
      ]
    },
    {
      "cell_type": "code",
      "metadata": {
        "id": "fvqhb2fq1vpu"
      },
      "source": [
        "df = df.drop_duplicates()"
      ],
      "execution_count": 16,
      "outputs": []
    },
    {
      "cell_type": "code",
      "metadata": {
        "id": "5Jz-uqYN2D7v"
      },
      "source": [
        "df = df.replace({'setosa': 0, 'versicolor': 1, 'virginica':2})\n",
        "target_Y = df.pop('species')\n",
        "\n",
        "iris_X = df.to_numpy()\n",
        "iris_Y = target_Y.to_numpy().reshape(-1,1)"
      ],
      "execution_count": null,
      "outputs": []
    },
    {
      "cell_type": "code",
      "metadata": {
        "colab": {
          "base_uri": "https://localhost:8080/",
          "height": 422
        },
        "id": "Hzx5H9Xk1-fu",
        "outputId": "ca8f5b9c-e6b7-49ce-e688-920b51293a2d"
      },
      "source": [
        "df"
      ],
      "execution_count": 19,
      "outputs": [
        {
          "output_type": "execute_result",
          "data": {
            "text/html": [
              "<div>\n",
              "<style scoped>\n",
              "    .dataframe tbody tr th:only-of-type {\n",
              "        vertical-align: middle;\n",
              "    }\n",
              "\n",
              "    .dataframe tbody tr th {\n",
              "        vertical-align: top;\n",
              "    }\n",
              "\n",
              "    .dataframe thead th {\n",
              "        text-align: right;\n",
              "    }\n",
              "</style>\n",
              "<table border=\"1\" class=\"dataframe\">\n",
              "  <thead>\n",
              "    <tr style=\"text-align: right;\">\n",
              "      <th></th>\n",
              "      <th>sepal length (cm)</th>\n",
              "      <th>sepal width (cm)</th>\n",
              "      <th>petal length (cm)</th>\n",
              "      <th>petal width (cm)</th>\n",
              "    </tr>\n",
              "  </thead>\n",
              "  <tbody>\n",
              "    <tr>\n",
              "      <th>0</th>\n",
              "      <td>5.1</td>\n",
              "      <td>3.5</td>\n",
              "      <td>1.4</td>\n",
              "      <td>0.2</td>\n",
              "    </tr>\n",
              "    <tr>\n",
              "      <th>1</th>\n",
              "      <td>4.9</td>\n",
              "      <td>3.0</td>\n",
              "      <td>1.4</td>\n",
              "      <td>0.2</td>\n",
              "    </tr>\n",
              "    <tr>\n",
              "      <th>2</th>\n",
              "      <td>4.7</td>\n",
              "      <td>3.2</td>\n",
              "      <td>1.3</td>\n",
              "      <td>0.2</td>\n",
              "    </tr>\n",
              "    <tr>\n",
              "      <th>3</th>\n",
              "      <td>4.6</td>\n",
              "      <td>3.1</td>\n",
              "      <td>1.5</td>\n",
              "      <td>0.2</td>\n",
              "    </tr>\n",
              "    <tr>\n",
              "      <th>4</th>\n",
              "      <td>5.0</td>\n",
              "      <td>3.6</td>\n",
              "      <td>1.4</td>\n",
              "      <td>0.2</td>\n",
              "    </tr>\n",
              "    <tr>\n",
              "      <th>...</th>\n",
              "      <td>...</td>\n",
              "      <td>...</td>\n",
              "      <td>...</td>\n",
              "      <td>...</td>\n",
              "    </tr>\n",
              "    <tr>\n",
              "      <th>145</th>\n",
              "      <td>6.7</td>\n",
              "      <td>3.0</td>\n",
              "      <td>5.2</td>\n",
              "      <td>2.3</td>\n",
              "    </tr>\n",
              "    <tr>\n",
              "      <th>146</th>\n",
              "      <td>6.3</td>\n",
              "      <td>2.5</td>\n",
              "      <td>5.0</td>\n",
              "      <td>1.9</td>\n",
              "    </tr>\n",
              "    <tr>\n",
              "      <th>147</th>\n",
              "      <td>6.5</td>\n",
              "      <td>3.0</td>\n",
              "      <td>5.2</td>\n",
              "      <td>2.0</td>\n",
              "    </tr>\n",
              "    <tr>\n",
              "      <th>148</th>\n",
              "      <td>6.2</td>\n",
              "      <td>3.4</td>\n",
              "      <td>5.4</td>\n",
              "      <td>2.3</td>\n",
              "    </tr>\n",
              "    <tr>\n",
              "      <th>149</th>\n",
              "      <td>5.9</td>\n",
              "      <td>3.0</td>\n",
              "      <td>5.1</td>\n",
              "      <td>1.8</td>\n",
              "    </tr>\n",
              "  </tbody>\n",
              "</table>\n",
              "<p>149 rows × 4 columns</p>\n",
              "</div>"
            ],
            "text/plain": [
              "     sepal length (cm)  sepal width (cm)  petal length (cm)  petal width (cm)\n",
              "0                  5.1               3.5                1.4               0.2\n",
              "1                  4.9               3.0                1.4               0.2\n",
              "2                  4.7               3.2                1.3               0.2\n",
              "3                  4.6               3.1                1.5               0.2\n",
              "4                  5.0               3.6                1.4               0.2\n",
              "..                 ...               ...                ...               ...\n",
              "145                6.7               3.0                5.2               2.3\n",
              "146                6.3               2.5                5.0               1.9\n",
              "147                6.5               3.0                5.2               2.0\n",
              "148                6.2               3.4                5.4               2.3\n",
              "149                5.9               3.0                5.1               1.8\n",
              "\n",
              "[149 rows x 4 columns]"
            ]
          },
          "metadata": {
            "tags": []
          },
          "execution_count": 19
        }
      ]
    },
    {
      "cell_type": "code",
      "metadata": {
        "id": "RtEhWoLn2KW3"
      },
      "source": [
        "def split_train_val_test(X, Y):\n",
        "    np.random.seed(11235810) \n",
        "    data_count = X.shape[0]\n",
        "    permuted_indices = np.random.permutation(data_count)\n",
        "\n",
        "    train_ratio = 0.6\n",
        "    validation_ratio = 0.2\n",
        "    train_count = np.int(train_ratio * data_count)\n",
        "    val_count = np.int(validation_ratio * data_count)\n",
        "\n",
        "    shuffled_X = X[permuted_indices]\n",
        "    shuffled_Y = Y[permuted_indices]\n",
        "\n",
        "    train_X = shuffled_X[:train_count]\n",
        "    train_Y = shuffled_Y[:train_count]\n",
        "\n",
        "    val_X = shuffled_X[train_count:train_count+val_count]\n",
        "    val_Y = shuffled_Y[train_count:train_count+val_count]\n",
        "    \n",
        "    test_X = shuffled_X[train_count+val_count:]\n",
        "    test_Y = shuffled_Y[train_count+val_count:]\n",
        "\n",
        "    return train_X, train_Y, val_X, val_Y, test_X, test_Y"
      ],
      "execution_count": 21,
      "outputs": []
    },
    {
      "cell_type": "code",
      "metadata": {
        "id": "pjn7jzDb2SDf"
      },
      "source": [
        "train_X, train_Y, val_X, val_Y, test_X, test_Y = split_train_val_test(iris_X, iris_Y)"
      ],
      "execution_count": 22,
      "outputs": []
    },
    {
      "cell_type": "code",
      "metadata": {
        "id": "XE8zRDTT2VQy"
      },
      "source": [
        "n = train_X.shape[1]\n",
        "w = np.zeros((n,1))\n",
        "b = 0\n",
        "cost_diff_threshold = 1e-7\n",
        "learning_rate = 0.001\n",
        "Lambda = 0"
      ],
      "execution_count": 23,
      "outputs": []
    },
    {
      "cell_type": "code",
      "metadata": {
        "id": "53YnetB82ZYJ"
      },
      "source": [
        "classwise_params_dict = one_vs_rest(train_X, train_Y, w, b, cost_diff_threshold, learning_rate, Lambda)"
      ],
      "execution_count": 32,
      "outputs": []
    },
    {
      "cell_type": "code",
      "metadata": {
        "id": "BC5Lx5iQ3hCr"
      },
      "source": [
        "def predict_and_evaluate(X, Y, classwise_params_dict):\n",
        "    pred_Y = predict_labels_in_one_vs_rest(X, classwise_params_dict)\n",
        "    correct_predictions = np.count_nonzero(pred_Y.ravel() == Y.ravel())\n",
        "    accuracy = correct_predictions/len(Y)\n",
        "    return accuracy   "
      ],
      "execution_count": 34,
      "outputs": []
    },
    {
      "cell_type": "code",
      "metadata": {
        "colab": {
          "base_uri": "https://localhost:8080/"
        },
        "id": "eLkLerEI3ygb",
        "outputId": "1e4d40f0-e324-4514-ad4d-874b31573602"
      },
      "source": [
        "accuracy = predict_and_evaluate(val_X, val_Y, classwise_params_dict)\n",
        "print(\"Accuracy on Validation Data: \", accuracy)"
      ],
      "execution_count": 37,
      "outputs": [
        {
          "output_type": "stream",
          "text": [
            "Accuracy on Validation Data:  1.0\n"
          ],
          "name": "stdout"
        }
      ]
    }
  ]
}